{
 "cells": [
  {
   "cell_type": "markdown",
   "metadata": {},
   "source": [
    "# import Libraries"
   ]
  },
  {
   "cell_type": "code",
   "execution_count": 1,
   "metadata": {
    "execution": {
     "iopub.execute_input": "2023-01-26T19:02:11.270456Z",
     "iopub.status.busy": "2023-01-26T19:02:11.269962Z",
     "iopub.status.idle": "2023-01-26T19:02:18.920103Z",
     "shell.execute_reply": "2023-01-26T19:02:18.918829Z",
     "shell.execute_reply.started": "2023-01-26T19:02:11.270362Z"
    }
   },
   "outputs": [],
   "source": [
    "import numpy as np\n",
    "import pandas as pd\n",
    "import pickle\n",
    "\n",
    "import torch\n",
    "import torch.nn as nn\n",
    "from torch.utils.data import Dataset\n",
    "from torch.utils.data import DataLoader\n",
    "from sklearn import metrics\n",
    "from sklearn.metrics import f1_score\n",
    "# from torchcontrib.optim import SWA\n",
    "from transformers import AutoTokenizer, AutoModel, AutoConfig,BertModel, BertTokenizer\n",
    "# from torchcontrib.optim import SWA\n",
    "\n",
    "from transformers import AdamW\n",
    "from transformers import get_linear_schedule_with_warmup\n",
    "from sklearn import model_selection\n",
    "from tqdm import tqdm\n",
    "import seaborn as sns\n",
    "\n",
    "from sklearn.model_selection import KFold\n",
    "import warnings\n",
    "warnings.filterwarnings(\"ignore\")\n",
    "import gc\n",
    "gc.enable()\n",
    "\n",
    "\n"
   ]
  },
  {
   "cell_type": "code",
   "execution_count": 2,
   "metadata": {
    "execution": {
     "iopub.execute_input": "2023-01-26T19:03:04.985305Z",
     "iopub.status.busy": "2023-01-26T19:03:04.984241Z",
     "iopub.status.idle": "2023-01-26T19:03:11.929695Z",
     "shell.execute_reply": "2023-01-26T19:03:11.928531Z",
     "shell.execute_reply.started": "2023-01-26T19:03:04.985266Z"
    }
   },
   "outputs": [],
   "source": [
    "class args:\n",
    "    train_path = r\"C:\\Users\\ajayp\\OneDrive\\Desktop\\Semantic_similarity\\data\\training_file.csv\"\n",
    "    test_path = r\"C:\\Users\\ajayp\\OneDrive\\Desktop\\Semantic_similarity\\data\\testing_file.csv\"\n",
    "    TOKENIZER_PATH = \"bert-base-uncased\"\n",
    "    BERT_PATH = \"bert-base-uncased\"\n",
    "    ROBERTA_PATH = \"roberta-base-uncased\"\n",
    "    tokenizer = AutoTokenizer.from_pretrained(TOKENIZER_PATH)\n",
    "    MAX_LEN = 256\n",
    "    train_batch_size = 16\n",
    "    valid_batch_size = 1\n",
    "    epochs = 15\n",
    "    model_path = r\"C:\\Users\\ajayp\\OneDrive\\Desktop\\Semantic_similarity\\Saved_model_weights\"\n",
    "    folds_path = r\"C:\\Users\\ajayp\\OneDrive\\Desktop\\Semantic_similarity\\data\\train_folds.csv\"\n",
    "    splits  = 5\n",
    "\n",
    "\n"
   ]
  },
  {
   "cell_type": "code",
   "execution_count": 3,
   "metadata": {
    "execution": {
     "iopub.execute_input": "2023-01-26T19:03:11.934345Z",
     "iopub.status.busy": "2023-01-26T19:03:11.933978Z",
     "iopub.status.idle": "2023-01-26T19:03:11.988713Z",
     "shell.execute_reply": "2023-01-26T19:03:11.987578Z",
     "shell.execute_reply.started": "2023-01-26T19:03:11.934303Z"
    }
   },
   "outputs": [],
   "source": [
    "train_df = pd.read_csv(args.train_path)\n",
    "test_df = pd.read_csv(args.test_path)\n"
   ]
  },
  {
   "cell_type": "markdown",
   "metadata": {},
   "source": [
    "# EDA"
   ]
  },
  {
   "cell_type": "code",
   "execution_count": 4,
   "metadata": {
    "execution": {
     "iopub.execute_input": "2023-01-26T19:03:11.991637Z",
     "iopub.status.busy": "2023-01-26T19:03:11.990829Z",
     "iopub.status.idle": "2023-01-26T19:03:12.023058Z",
     "shell.execute_reply": "2023-01-26T19:03:12.021724Z",
     "shell.execute_reply.started": "2023-01-26T19:03:11.991593Z"
    }
   },
   "outputs": [
    {
     "data": {
      "text/html": [
       "<div>\n",
       "<style scoped>\n",
       "    .dataframe tbody tr th:only-of-type {\n",
       "        vertical-align: middle;\n",
       "    }\n",
       "\n",
       "    .dataframe tbody tr th {\n",
       "        vertical-align: top;\n",
       "    }\n",
       "\n",
       "    .dataframe thead th {\n",
       "        text-align: right;\n",
       "    }\n",
       "</style>\n",
       "<table border=\"1\" class=\"dataframe\">\n",
       "  <thead>\n",
       "    <tr style=\"text-align: right;\">\n",
       "      <th></th>\n",
       "      <th>label</th>\n",
       "    </tr>\n",
       "  </thead>\n",
       "  <tbody>\n",
       "    <tr>\n",
       "      <th>count</th>\n",
       "      <td>10461.000000</td>\n",
       "    </tr>\n",
       "    <tr>\n",
       "      <th>mean</th>\n",
       "      <td>0.456935</td>\n",
       "    </tr>\n",
       "    <tr>\n",
       "      <th>std</th>\n",
       "      <td>0.498166</td>\n",
       "    </tr>\n",
       "    <tr>\n",
       "      <th>min</th>\n",
       "      <td>0.000000</td>\n",
       "    </tr>\n",
       "    <tr>\n",
       "      <th>25%</th>\n",
       "      <td>0.000000</td>\n",
       "    </tr>\n",
       "    <tr>\n",
       "      <th>50%</th>\n",
       "      <td>0.000000</td>\n",
       "    </tr>\n",
       "    <tr>\n",
       "      <th>75%</th>\n",
       "      <td>1.000000</td>\n",
       "    </tr>\n",
       "    <tr>\n",
       "      <th>max</th>\n",
       "      <td>1.000000</td>\n",
       "    </tr>\n",
       "  </tbody>\n",
       "</table>\n",
       "</div>"
      ],
      "text/plain": [
       "              label\n",
       "count  10461.000000\n",
       "mean       0.456935\n",
       "std        0.498166\n",
       "min        0.000000\n",
       "25%        0.000000\n",
       "50%        0.000000\n",
       "75%        1.000000\n",
       "max        1.000000"
      ]
     },
     "execution_count": 4,
     "metadata": {},
     "output_type": "execute_result"
    }
   ],
   "source": [
    "train_df.describe()"
   ]
  },
  {
   "cell_type": "code",
   "execution_count": 5,
   "metadata": {
    "execution": {
     "iopub.execute_input": "2023-01-26T19:03:12.026872Z",
     "iopub.status.busy": "2023-01-26T19:03:12.026392Z",
     "iopub.status.idle": "2023-01-26T19:03:12.045275Z",
     "shell.execute_reply": "2023-01-26T19:03:12.043666Z",
     "shell.execute_reply.started": "2023-01-26T19:03:12.026827Z"
    }
   },
   "outputs": [
    {
     "name": "stdout",
     "output_type": "stream",
     "text": [
      "<class 'pandas.core.frame.DataFrame'>\n",
      "RangeIndex: 10461 entries, 0 to 10460\n",
      "Data columns (total 3 columns):\n",
      " #   Column  Non-Null Count  Dtype  \n",
      "---  ------  --------------  -----  \n",
      " 0   text    10461 non-null  object \n",
      " 1   reason  10461 non-null  object \n",
      " 2   label   10461 non-null  float64\n",
      "dtypes: float64(1), object(2)\n",
      "memory usage: 245.3+ KB\n"
     ]
    }
   ],
   "source": [
    "train_df.info()"
   ]
  },
  {
   "cell_type": "code",
   "execution_count": 6,
   "metadata": {
    "execution": {
     "iopub.execute_input": "2023-01-26T19:03:12.048660Z",
     "iopub.status.busy": "2023-01-26T19:03:12.047722Z",
     "iopub.status.idle": "2023-01-26T19:03:12.081962Z",
     "shell.execute_reply": "2023-01-26T19:03:12.080612Z",
     "shell.execute_reply.started": "2023-01-26T19:03:12.048588Z"
    }
   },
   "outputs": [
    {
     "data": {
      "text/plain": [
       "10461"
      ]
     },
     "execution_count": 6,
     "metadata": {},
     "output_type": "execute_result"
    }
   ],
   "source": [
    "train_df.value_counts().sum()"
   ]
  },
  {
   "cell_type": "code",
   "execution_count": 7,
   "metadata": {
    "execution": {
     "iopub.execute_input": "2023-01-26T19:03:12.084617Z",
     "iopub.status.busy": "2023-01-26T19:03:12.083443Z",
     "iopub.status.idle": "2023-01-26T19:03:12.095952Z",
     "shell.execute_reply": "2023-01-26T19:03:12.094426Z",
     "shell.execute_reply.started": "2023-01-26T19:03:12.084572Z"
    }
   },
   "outputs": [
    {
     "data": {
      "text/plain": [
       "text      everytime i download this app on my galaxy s9,...\n",
       "reason         getting blank screen after launching the app\n",
       "label                                                     1\n",
       "Name: 0, dtype: object"
      ]
     },
     "execution_count": 7,
     "metadata": {},
     "output_type": "execute_result"
    }
   ],
   "source": [
    "test_df.iloc[0]"
   ]
  },
  {
   "cell_type": "code",
   "execution_count": 8,
   "metadata": {
    "execution": {
     "iopub.execute_input": "2023-01-26T19:03:12.719007Z",
     "iopub.status.busy": "2023-01-26T19:03:12.718588Z",
     "iopub.status.idle": "2023-01-26T19:03:12.725635Z",
     "shell.execute_reply": "2023-01-26T19:03:12.724383Z",
     "shell.execute_reply.started": "2023-01-26T19:03:12.718973Z"
    }
   },
   "outputs": [
    {
     "name": "stdout",
     "output_type": "stream",
     "text": [
      "so far I am going to get screwed because I have already paid for a month (which they will not redeem any of i assure you even though i only started it yesterday) and it is unwatchable.\n",
      "want to cancel subscription\n"
     ]
    }
   ],
   "source": [
    "print(train_df[\"text\"][0])\n",
    "print(train_df[\"reason\"][0])\n"
   ]
  },
  {
   "cell_type": "code",
   "execution_count": 9,
   "metadata": {
    "execution": {
     "iopub.execute_input": "2023-01-26T19:03:13.027274Z",
     "iopub.status.busy": "2023-01-26T19:03:13.026276Z",
     "iopub.status.idle": "2023-01-26T19:03:13.043137Z",
     "shell.execute_reply": "2023-01-26T19:03:13.041759Z",
     "shell.execute_reply.started": "2023-01-26T19:03:13.027235Z"
    }
   },
   "outputs": [
    {
     "name": "stdout",
     "output_type": "stream",
     "text": [
      "<class 'pandas.core.frame.DataFrame'>\n",
      "RangeIndex: 600 entries, 0 to 599\n",
      "Data columns (total 3 columns):\n",
      " #   Column  Non-Null Count  Dtype  \n",
      "---  ------  --------------  -----  \n",
      " 0   text    600 non-null    object \n",
      " 1   reason  600 non-null    object \n",
      " 2   label   600 non-null    float64\n",
      "dtypes: float64(1), object(2)\n",
      "memory usage: 14.2+ KB\n"
     ]
    }
   ],
   "source": [
    "test_df.info()"
   ]
  },
  {
   "cell_type": "code",
   "execution_count": 10,
   "metadata": {
    "execution": {
     "iopub.execute_input": "2023-01-26T19:03:13.312615Z",
     "iopub.status.busy": "2023-01-26T19:03:13.311745Z",
     "iopub.status.idle": "2023-01-26T19:03:13.331692Z",
     "shell.execute_reply": "2023-01-26T19:03:13.330669Z",
     "shell.execute_reply.started": "2023-01-26T19:03:13.312568Z"
    }
   },
   "outputs": [
    {
     "data": {
      "text/html": [
       "<div>\n",
       "<style scoped>\n",
       "    .dataframe tbody tr th:only-of-type {\n",
       "        vertical-align: middle;\n",
       "    }\n",
       "\n",
       "    .dataframe tbody tr th {\n",
       "        vertical-align: top;\n",
       "    }\n",
       "\n",
       "    .dataframe thead th {\n",
       "        text-align: right;\n",
       "    }\n",
       "</style>\n",
       "<table border=\"1\" class=\"dataframe\">\n",
       "  <thead>\n",
       "    <tr style=\"text-align: right;\">\n",
       "      <th></th>\n",
       "      <th>label</th>\n",
       "    </tr>\n",
       "  </thead>\n",
       "  <tbody>\n",
       "    <tr>\n",
       "      <th>count</th>\n",
       "      <td>600.000000</td>\n",
       "    </tr>\n",
       "    <tr>\n",
       "      <th>mean</th>\n",
       "      <td>0.470000</td>\n",
       "    </tr>\n",
       "    <tr>\n",
       "      <th>std</th>\n",
       "      <td>0.499516</td>\n",
       "    </tr>\n",
       "    <tr>\n",
       "      <th>min</th>\n",
       "      <td>0.000000</td>\n",
       "    </tr>\n",
       "    <tr>\n",
       "      <th>25%</th>\n",
       "      <td>0.000000</td>\n",
       "    </tr>\n",
       "    <tr>\n",
       "      <th>50%</th>\n",
       "      <td>0.000000</td>\n",
       "    </tr>\n",
       "    <tr>\n",
       "      <th>75%</th>\n",
       "      <td>1.000000</td>\n",
       "    </tr>\n",
       "    <tr>\n",
       "      <th>max</th>\n",
       "      <td>1.000000</td>\n",
       "    </tr>\n",
       "  </tbody>\n",
       "</table>\n",
       "</div>"
      ],
      "text/plain": [
       "            label\n",
       "count  600.000000\n",
       "mean     0.470000\n",
       "std      0.499516\n",
       "min      0.000000\n",
       "25%      0.000000\n",
       "50%      0.000000\n",
       "75%      1.000000\n",
       "max      1.000000"
      ]
     },
     "execution_count": 10,
     "metadata": {},
     "output_type": "execute_result"
    }
   ],
   "source": [
    "test_df.describe()"
   ]
  },
  {
   "cell_type": "code",
   "execution_count": 11,
   "metadata": {
    "execution": {
     "iopub.execute_input": "2023-01-26T19:03:27.988335Z",
     "iopub.status.busy": "2023-01-26T19:03:27.987252Z",
     "iopub.status.idle": "2023-01-26T19:03:28.001795Z",
     "shell.execute_reply": "2023-01-26T19:03:28.000501Z",
     "shell.execute_reply.started": "2023-01-26T19:03:27.988264Z"
    }
   },
   "outputs": [
    {
     "data": {
      "text/plain": [
       "0.0    318\n",
       "1.0    282\n",
       "Name: label, dtype: int64"
      ]
     },
     "execution_count": 11,
     "metadata": {},
     "output_type": "execute_result"
    }
   ],
   "source": [
    "test_df[\"label\"].value_counts()"
   ]
  },
  {
   "cell_type": "markdown",
   "metadata": {},
   "source": [
    "# plots\n"
   ]
  },
  {
   "cell_type": "code",
   "execution_count": 12,
   "metadata": {
    "execution": {
     "iopub.execute_input": "2023-01-26T19:03:28.294750Z",
     "iopub.status.busy": "2023-01-26T19:03:28.292061Z",
     "iopub.status.idle": "2023-01-26T19:03:28.511321Z",
     "shell.execute_reply": "2023-01-26T19:03:28.510320Z",
     "shell.execute_reply.started": "2023-01-26T19:03:28.294708Z"
    }
   },
   "outputs": [
    {
     "data": {
      "text/plain": [
       "<AxesSubplot:xlabel='label', ylabel='count'>"
      ]
     },
     "execution_count": 12,
     "metadata": {},
     "output_type": "execute_result"
    },
    {
     "data": {
      "image/png": "[encoded data removed]",
      "text/plain": [
       "<Figure size 432x288 with 1 Axes>"
      ]
     },
     "metadata": {
      "needs_background": "light"
     },
     "output_type": "display_data"
    }
   ],
   "source": [
    "sns.countplot(x=train_df[\"label\"])\n",
    "# this shows the high imbalance in the dataset"
   ]
  },
  {
   "cell_type": "code",
   "execution_count": 13,
   "metadata": {
    "execution": {
     "iopub.execute_input": "2023-01-26T19:03:35.741334Z",
     "iopub.status.busy": "2023-01-26T19:03:35.740921Z",
     "iopub.status.idle": "2023-01-26T19:03:35.935853Z",
     "shell.execute_reply": "2023-01-26T19:03:35.934830Z",
     "shell.execute_reply.started": "2023-01-26T19:03:35.741275Z"
    }
   },
   "outputs": [
    {
     "data": {
      "text/plain": [
       "<AxesSubplot:xlabel='label', ylabel='count'>"
      ]
     },
     "execution_count": 13,
     "metadata": {},
     "output_type": "execute_result"
    },
    {
     "data": {
      "image/png": "[encoded data removed]",
      "text/plain": [
       "<Figure size 432x288 with 1 Axes>"
      ]
     },
     "metadata": {
      "needs_background": "light"
     },
     "output_type": "display_data"
    }
   ],
   "source": [
    "sns.countplot(x = test_df[\"label\"])\n",
    "# test data comprises of completely single label \n",
    "# so it will be of now use to consider test data as a training set\n",
    "# so here we can use evaluation data as the training dataset "
   ]
  },
  {
   "cell_type": "code",
   "execution_count": 14,
   "metadata": {
    "execution": {
     "iopub.execute_input": "2023-01-26T19:03:36.087076Z",
     "iopub.status.busy": "2023-01-26T19:03:36.086660Z",
     "iopub.status.idle": "2023-01-26T19:03:36.091619Z",
     "shell.execute_reply": "2023-01-26T19:03:36.090507Z",
     "shell.execute_reply.started": "2023-01-26T19:03:36.087041Z"
    }
   },
   "outputs": [],
   "source": [
    "# frames = [train_df, test_df]\n",
    "\n",
    "# train_df_new = pd.concat(frames)\n",
    "# train_df_new = train_df_new.reset_index(drop = True)\n",
    "# train_df_new"
   ]
  },
  {
   "cell_type": "code",
   "execution_count": 15,
   "metadata": {
    "execution": {
     "iopub.execute_input": "2023-01-26T19:03:36.378250Z",
     "iopub.status.busy": "2023-01-26T19:03:36.377533Z",
     "iopub.status.idle": "2023-01-26T19:03:36.383059Z",
     "shell.execute_reply": "2023-01-26T19:03:36.381633Z",
     "shell.execute_reply.started": "2023-01-26T19:03:36.378213Z"
    }
   },
   "outputs": [],
   "source": [
    "# sns.countplot(x=train_df_new[\"label\"])"
   ]
  },
  {
   "cell_type": "code",
   "execution_count": 16,
   "metadata": {
    "execution": {
     "iopub.execute_input": "2023-01-26T19:03:37.011730Z",
     "iopub.status.busy": "2023-01-26T19:03:37.011252Z",
     "iopub.status.idle": "2023-01-26T19:03:37.020694Z",
     "shell.execute_reply": "2023-01-26T19:03:37.019601Z",
     "shell.execute_reply.started": "2023-01-26T19:03:37.011690Z"
    }
   },
   "outputs": [],
   "source": [
    "# df = train_df_new.sample(frac = 1)\n",
    "# df.reset_index(drop = True, inplace = True)\n",
    "# test_df_new = df.iloc[-600:]\n",
    "# df = df.iloc[:-600]\n",
    "# df.reset_index(drop = True, inplace = True)\n",
    "# test_df_new.reset_index(drop = True, inplace = True)\n",
    "# print(df.shape, test_df_new.shape)\n",
    "\n",
    "# df.to_csv(\"training_file.csv\", index = False)\n",
    "# test_df_new.to_csv(\"testing_file.csv\", index = False)\n",
    "\n",
    "## get count of the new data file\n",
    "# sns.countplot(x=test_df_new[\"label\"])"
   ]
  },
  {
   "cell_type": "markdown",
   "metadata": {},
   "source": [
    "# Dataset class"
   ]
  },
  {
   "cell_type": "code",
   "execution_count": 17,
   "metadata": {
    "execution": {
     "iopub.execute_input": "2023-01-26T19:03:38.109119Z",
     "iopub.status.busy": "2023-01-26T19:03:38.108746Z",
     "iopub.status.idle": "2023-01-26T19:03:38.114423Z",
     "shell.execute_reply": "2023-01-26T19:03:38.112636Z",
     "shell.execute_reply.started": "2023-01-26T19:03:38.109087Z"
    }
   },
   "outputs": [],
   "source": [
    "# sen_1 = train_df[\"text\"][0]\n",
    "# sen_2 = train_df[\"reason\"][0]\n",
    "# tokenizer = AutoTokenizer.from_pretrained(\"bert-base-uncased\")\n",
    "# tokenizer.encode_plus(sen_1, \n",
    "#                       sen_2,\n",
    "#                       padding = \"max_length\", \n",
    "#                       add_special_tokens = True, \n",
    "#                       truncation = True, \n",
    "#                       return_attention_mask = True)"
   ]
  },
  {
   "cell_type": "code",
   "execution_count": 18,
   "metadata": {
    "execution": {
     "iopub.execute_input": "2023-01-26T19:03:38.471925Z",
     "iopub.status.busy": "2023-01-26T19:03:38.470941Z",
     "iopub.status.idle": "2023-01-26T19:03:38.484011Z",
     "shell.execute_reply": "2023-01-26T19:03:38.482686Z",
     "shell.execute_reply.started": "2023-01-26T19:03:38.471873Z"
    }
   },
   "outputs": [],
   "source": [
    "class Data_class(Dataset):\n",
    "    def __init__(self, df,args, inference_only=False):\n",
    "        super().__init__()\n",
    "        \n",
    "        self.df = df      \n",
    "#         df[\"airline_sentiment\"] = df[\"airline_sentiment\"].apply(lambda x : add_sentiment(x))\n",
    "        self.inference_only = inference_only\n",
    "#         self.text = df.text.tolist()\n",
    "        \n",
    "        if not self.inference_only:\n",
    "            self.target = torch.tensor(df.label.values, dtype=torch.float)     \n",
    "            \n",
    "        self.sen_1 = df[\"text\"].tolist()\n",
    "        self.sen_2 = df[\"reason\"].tolist()\n",
    "    \n",
    "        self.encoded = args.tokenizer.encode_plus(str(self.sen_1), \n",
    "                      str(self.sen_2),\n",
    "                      padding = \"max_length\", \n",
    "                      add_special_tokens = True, \n",
    "                      truncation = True, \n",
    "                      return_attention_mask = True)      \n",
    " \n",
    "\n",
    "    def __len__(self):\n",
    "        return len(self.df)\n",
    "\n",
    "    \n",
    "    def __getitem__(self, index):    \n",
    "        \n",
    "        encoded = args.tokenizer.encode_plus(self.sen_1[index], \n",
    "                      self.sen_2[index],\n",
    "                      padding = \"max_length\", \n",
    "                      add_special_tokens = True,\n",
    "                      max_length = args.MAX_LEN,\n",
    "                      truncation = True, \n",
    "                      return_attention_mask = True)   \n",
    "        input_ids = torch.tensor(encoded[\"input_ids\"])\n",
    "        attention_mask = torch.tensor(encoded[\"attention_mask\"])\n",
    "        token_type_ids = torch.tensor(encoded[\"token_type_ids\"])\n",
    "        \n",
    "        \n",
    "        if self.inference_only:\n",
    "            return {\n",
    "                \"input_ids\" : input_ids, \n",
    "                \"attention_mask\" : attention_mask, \n",
    "                \"token_type_ids\" : token_type_ids\n",
    "            }           \n",
    "        else:\n",
    "            target = self.target[index]\n",
    "            return {\n",
    "                \"input_ids\" : input_ids, \n",
    "                \"attention_mask\" : attention_mask, \n",
    "                \"token_type_ids\" : token_type_ids,\n",
    "                \"target\" : target\n",
    "            }"
   ]
  },
  {
   "cell_type": "markdown",
   "metadata": {},
   "source": [
    "# model (Bert Base)"
   ]
  },
  {
   "cell_type": "code",
   "execution_count": 19,
   "metadata": {},
   "outputs": [],
   "source": [
    "class SEN_Model(nn.Module):\n",
    "    def __init__(self):\n",
    "        super().__init__()\n",
    "\n",
    "        config = AutoConfig.from_pretrained(args.BERT_PATH)\n",
    "        config.update({\"output_hidden_states\":True, \n",
    "                       \"layer_norm_eps\": 1e-7})                       \n",
    "        self.layer_start = 9\n",
    "        self.bert = AutoModel.from_pretrained(args.BERT_PATH, config=config)  \n",
    "\n",
    "        self.attention = nn.Sequential(            \n",
    "            nn.Linear(768, 512),            \n",
    "            nn.Tanh(),                       \n",
    "            nn.Linear(512, 1),\n",
    "            nn.Softmax(dim=1)\n",
    "        )        \n",
    "\n",
    "        self.linear = nn.Linear(768, 1)\n",
    "#         self.softmax = nn.Softmax(dim = -1)\n",
    "        \n",
    "\n",
    "    def forward(self, input_ids, attention_mask, token_type_ids):\n",
    "        outputs = self.bert(input_ids, attention_mask, token_type_ids)\n",
    "        #print(outputs)\n",
    "        #all_hidden_state = outputs.hidden_states[-1]\n",
    "       # weighted_pooling_embeddings = self.pooler(all_hidden_state)\n",
    "#         print(outputs.hidden_states[-1].shape)\n",
    "        \n",
    "        weights = self.attention(outputs.hidden_states[-1])\n",
    "        #[batch_size, max_len, hidden_states]\n",
    "#         print(weights.shape)\n",
    "        \n",
    "       \n",
    "        context_vector = torch.sum(weights *outputs.hidden_states[-1] , dim=1) \n",
    "#         print((weights *outputs.hidden_states[-1]).shape)\n",
    "#         print(context_vector.shape)\n",
    "        \n",
    "        return self.linear(context_vector)"
   ]
  },
  {
   "cell_type": "code",
   "execution_count": 20,
   "metadata": {},
   "outputs": [],
   "source": [
    "# temp = Data_class(train_df, args)\n",
    "# sample = temp.__getitem__(10)\n",
    "# # sample\n",
    "\n",
    "# for i, data  in enumerate(tqdm(temp, total = len(temp))):\n",
    "#     try:\n",
    "#         pass\n",
    "# #         print(temp.__getitem__(i)[\"input_ids\"].shape,temp.__getitem__(i)[\"attention_mask\"].shape,temp.__getitem__(i)[\"token_type_ids\"].shape )\n",
    "#     except:\n",
    "#         print(\"Here is the error\")\n",
    "# model = SEN_Model()\n",
    "# input_ids, attention_mask, token_type_ids = sample[\"input_ids\"].unsqueeze(0), sample[\"attention_mask\"].unsqueeze(0), sample[\"token_type_ids\"].unsqueeze(0)\n",
    "# out = model(input_ids, attention_mask, token_type_ids)\n",
    "# pred = torch.sigmoid(out)\n",
    "# print(pred)"
   ]
  },
  {
   "cell_type": "code",
   "execution_count": 21,
   "metadata": {},
   "outputs": [],
   "source": [
    "def train_fn(data_loader, model, optimizer,device, scheduler):\n",
    "    model.train()\n",
    "    \n",
    "    loss_sum = 0\n",
    "    \n",
    "    for i, data in tqdm(enumerate(data_loader), total = len(data_loader)):\n",
    "        input_ids = data[\"input_ids\"]\n",
    "        attention_mask = data[\"attention_mask\"]\n",
    "        token_type_ids = data[\"token_type_ids\"]\n",
    "        target = data[\"target\"]\n",
    "        \n",
    "        input_ids = input_ids.to(device, dtype = torch.long)\n",
    "        attention_mask = attention_mask.to(device, dtype = torch.long)\n",
    "        target = target.to(device, dtype = torch.float)\n",
    "        token_type_ids = token_type_ids.to(device, dtype = torch.long)\n",
    "        \n",
    "        optimizer.zero_grad()\n",
    "        outputs = model(input_ids, attention_mask, token_type_ids)\n",
    "        \n",
    "        loss = loss_fn(outputs, target)\n",
    "        loss.backward()\n",
    "        \n",
    "        loss_sum += loss.item()\n",
    "        \n",
    "        optimizer.step()\n",
    "        scheduler.step()\n",
    "        \n",
    "        \n",
    "    return loss_sum/len(data_loader)\n",
    "        \n",
    "        \n",
    "    \n",
    "    \n",
    "def eval_fn(data_loader, model, device):\n",
    "    \n",
    "    model.eval()\n",
    "    \n",
    "    final_targets = []\n",
    "    \n",
    "    final_outputs = []\n",
    "    \n",
    "    with torch.no_grad():\n",
    "            \n",
    "        for i, data in tqdm(enumerate(data_loader), total = len(data_loader)):\n",
    "            input_ids = data[\"input_ids\"]\n",
    "            attention_mask = data[\"attention_mask\"]\n",
    "            token_type_ids = data[\"token_type_ids\"]\n",
    "            target = data[\"target\"]\n",
    "\n",
    "            input_ids = input_ids.to(device, dtype = torch.long)\n",
    "            attention_mask = attention_mask.to(device, dtype = torch.long)\n",
    "            target = target.to(device, dtype = torch.float)\n",
    "            token_type_ids = token_type_ids.to(device, dtype = torch.long)\n",
    "            \n",
    "            outputs = model(input_ids, attention_mask, token_type_ids)\n",
    "            \n",
    "            output = torch.sigmoid(outputs)\n",
    "            \n",
    "#             ans = torch.argmax(output, dim = -1)\n",
    "            \n",
    "            targets = target.detach().cpu().numpy().tolist()\n",
    "            \n",
    "            ans = output.detach().cpu().numpy().tolist()\n",
    "            \n",
    "            final_targets.extend(targets)\n",
    "            \n",
    "            final_outputs.extend(ans)\n",
    "            \n",
    "    return final_outputs, final_targets"
   ]
  },
  {
   "cell_type": "code",
   "execution_count": 22,
   "metadata": {},
   "outputs": [],
   "source": [
    "import torch.nn as nn\n",
    "\n",
    "\n",
    "def loss_fn(out, tar):\n",
    "#     print(out)\n",
    "#     print(tar)\n",
    "    loss = nn.BCEWithLogitsLoss()(out, tar.view(-1, 1))\n",
    "    return loss\n",
    "\n",
    "# print(loss_fn(out.flatten(), tar))"
   ]
  },
  {
   "cell_type": "markdown",
   "metadata": {},
   "source": [
    "# Cross Validation(k fold)"
   ]
  },
  {
   "cell_type": "code",
   "execution_count": 23,
   "metadata": {},
   "outputs": [],
   "source": [
    "# import pandas as pd\n",
    "# from sklearn import model_selection\n",
    "# # from args import args\n",
    "\n",
    "# # Training data is in a csv file called train.csv \n",
    "# df = pd.read_csv(args.train_path)\n",
    "# # we create a new column called kfold and fill it with -1\n",
    "# df[\"kfold\"] = -1\n",
    "\n",
    "# # fetch targets\n",
    "# y = df.label.values\n",
    "\n",
    "# # initiate the kfold class from model_selection module\n",
    "# kf = model_selection.StratifiedKFold(n_splits=args.splits, shuffle=True, random_state=42)\n",
    "\n",
    "# # fill the new kfold column\n",
    "# for f, (t_, v_) in enumerate(kf.split(X=df, y=y)):\n",
    "#     df.loc[v_, 'kfold'] = f\n",
    "\n",
    "# # save the new csv with kfold column\n",
    "# df.to_csv(\"train_folds.csv\", index=False)"
   ]
  },
  {
   "cell_type": "code",
   "execution_count": 24,
   "metadata": {},
   "outputs": [],
   "source": [
    "def run(fold):\n",
    "    df = pd.read_csv(args.folds_path)\n",
    "    df = df.iloc[:50]\n",
    "#     df_train, df_valid = model_selection.train_test_split(df, test_size = 0.1, random_state = 42)\n",
    "    \n",
    "    df_train = df[df[\"kfold\"] != fold]\n",
    "    df_valid = df[df[\"kfold\"] == fold]\n",
    "    \n",
    "    \n",
    "    df_train = df_train.reset_index(drop = True)\n",
    "    df_valid = df_valid.reset_index(drop = True)\n",
    "    \n",
    "    train_dataset = Data_class(df_train, args)\n",
    "    valid_dataset = Data_class(df_valid, args)\n",
    "    \n",
    "    \n",
    "#     print(args.train_batch_size, args.valid_batch_size)\n",
    "    \n",
    "    train_loader = DataLoader(train_dataset, batch_size = args.train_batch_size, shuffle = True)\n",
    "    valid_loader = DataLoader(valid_dataset, batch_size = args.valid_batch_size)\n",
    "    \n",
    "    device = torch.device(\"cuda\")\n",
    "    model = SEN_Model()\n",
    "    \n",
    "    \n",
    "    param_optimizer = list(model.named_parameters())\n",
    "    no_decay = [\"bias\", \"LayerNorm.bias\", \"LayerNorm.weight\"]\n",
    "    \n",
    "    optimizer_parameters = [\n",
    "        {'params' : [p for n, p in param_optimizer if not any(nd in n for nd in no_decay)], 'weight_decay': 0.001},\n",
    "        {'params' : [p for n, p in param_optimizer if  any(nd in n for nd in no_decay)], 'weight_decay': 0.0}\n",
    "    ]\n",
    "    \n",
    "    num_training_steps = int(len(df_train)/args.train_batch_size)*args.epochs\n",
    "    \n",
    "    optimizer = AdamW(optimizer_parameters, lr = 3e-5)\n",
    "    \n",
    "    scheduler = get_linear_schedule_with_warmup(optimizer, num_warmup_steps = 0, num_training_steps = num_training_steps)\n",
    "    \n",
    "    model = model.to(device)\n",
    "    loss_list = []\n",
    "    \n",
    "    best_val = -1\n",
    "    \n",
    "#     opt = SWA(optimizer, swa_start=10, swa_freq=5, swa_lr=0.05)\n",
    "    \n",
    "    for epoch in range(args.epochs):\n",
    "        loss = train_fn(train_loader, model, optimizer, device, scheduler)\n",
    "#         print(loss)\n",
    "        loss_list.append(loss)\n",
    "        final_out, final_tar = eval_fn(valid_loader, model, device)\n",
    "        print(\"================loss============\", loss)\n",
    "#         print(metrics.classification_report(final_out, final_tar))\n",
    "        \n",
    "#         print(\"================validation===========\")\n",
    "    \n",
    "#         f1_scores = f1_score(final_tar, final_out, average=None, labels=labels)\n",
    "    \n",
    "#         print(\"=============f1_scores======================\", f1_scores)\n",
    "        \n",
    "#         f1_mean = f1_scores.mean()\n",
    "#         print(\"=============f1_scores mean======================\", f1_mean)\n",
    "\n",
    "        outputs = np.array(final_out) >= 0.5\n",
    "        accuracy = metrics.accuracy_score(final_tar, outputs)\n",
    "        f1_score = metrics.f1_score(final_tar, outputs)\n",
    "        \n",
    "        print(r\"============accuracy========{accuracy} \".format(accuracy = accuracy))\n",
    "        print(r\"============f1_score========{f1_score} \".format(f1_score = f1_score))\n",
    "        \n",
    "        if best_val < f1_score:\n",
    "            print(\"======saving model============\")\n",
    "            best_val = f1_score\n",
    "            model_path = args.model_path + '\\\\' + r\"model_{fold}_.pth\".format(fold = fold)\n",
    "            # model_path = r\"/kaggle/working/model{fold}\".format(fold = fold)\n",
    "            torch.save(model.state_dict(), model_path)\n",
    "    loss_path = r\"\\Users\\ajayp\\OneDrive\\Desktop\\Project\\Saved_model_weights\\model_{fold}_.pickle\".format(fold = fold)\n",
    "    # loss_path = r'/kaggle/working/loss_path{fold}'.format(fold = fold)\n",
    "    with open(loss_path, 'wb') as f:\n",
    "        pickle.dump(loss_list, f)\n",
    "        \n",
    "        \n",
    "        \n",
    "# if __name__ == \"__main__\":\n",
    "# #     run(fold = 0)\n",
    "#     run(fold = 1)\n",
    "# #     run(fold = 2)\n",
    "# #     run(fold = 3)\n",
    "# #     run(fold = 4)"
   ]
  },
  {
   "cell_type": "code",
   "execution_count": 26,
   "metadata": {},
   "outputs": [],
   "source": [
    "if __name__ == \"__main__\":\n",
    "    run(fold = 0)\n",
    "    run(fold = 1)\n",
    "    run(fold = 2)\n",
    "    run(fold = 3)\n",
    "    run(fold = 4)"
   ]
  },
  {
   "cell_type": "code",
   "execution_count": null,
   "metadata": {},
   "outputs": [],
   "source": []
  }
 ],
 "metadata": {
  "kernelspec": {
   "display_name": "Python 3",
   "language": "python",
   "name": "python3"
  },
  "language_info": {
   "codemirror_mode": {
    "name": "ipython",
    "version": 3
   },
   "file_extension": ".py",
   "mimetype": "text/x-python",
   "name": "python",
   "nbconvert_exporter": "python",
   "pygments_lexer": "ipython3",
   "version": "3.8.5"
  },
  "vscode": {
   "interpreter": {
    "hash": "9e75456845959833a798b90fdb74e0ae41623f1b9336c7b90ec2dd1b54799380"
   }
  }
 },
 "nbformat": 4,
 "nbformat_minor": 4
}
